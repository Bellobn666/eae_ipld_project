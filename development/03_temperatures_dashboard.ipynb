{
 "cells": [
  {
   "cell_type": "markdown",
   "metadata": {},
   "source": [
    "# Project 3: Temperatures Dashboard\n",
    "\n",
    "In this project, we will analyze a dataset with temperatures from 10 cities around the world extracting some interesting insights and developing two charts about them. We will be using once more Pandas and Matplotlib, but this time we will convert a column into timestamp date type, so we will be able to do some time sereis analysis and plots.\n",
    "\n",
    "Data extracted from: https://www.kaggle.com/datasets/sudalairajkumar/daily-temperature-of-major-cities (with some cleaning and modifications).\n",
    "\n",
    "\n",
    "### Project Tasks:\n",
    "\n",
    "- `3.1.` Load the dataset from the defined data_path and display the first 5 rows.\n",
    "\n",
    "- `3.2.` Create a new column called `AvgTemperatureCelsius` that contains the temperature in Celsius degrees.\n",
    "\n",
    "- `3.3.` How many different countries are there? Provide a list of them.\n",
    "\n",
    "- `3.4.` What is the minimum and maximum timestamps?\n",
    "\n",
    "- `3.5.` What is the global minimum and maximum temperature? Find the city and the date of each of them.\n",
    "\n",
    "- `3.6.` For a given city and a range of dates (start and end):\n",
    "  - Make a line plot with the temperature reads of that city during the selected time period, the x axis has to be the timestamp column.\n",
    "  - Make a histogram of the temperature reads of that city during the selected time period.\n",
    "  - Make sure that all plots include a title, axis labels and a legend.\n",
    "\n",
    "- `3.7.` Now repeat the previous question but for a list of cities instead of a single one:\n",
    "  - Make a line plot with the temperature reads of the cities in the list, for the selected time period, every city has to be a different line with a different color, the x axis has to be the timestamp column.\n",
    "  - Make a histogram of the temperature reads of a list of selected cities, for the selected time period, every city has to be its own distribution with a different color.\n",
    "  - Make sure that all plots include a title, axis labels and a legend.\n"
   ]
  },
  {
   "cell_type": "code",
   "execution_count": null,
   "metadata": {},
   "outputs": [],
   "source": [
    "import pandas as pd\n",
    "import matplotlib.pyplot as plt"
   ]
  },
  {
   "cell_type": "code",
   "execution_count": null,
   "metadata": {},
   "outputs": [],
   "source": [
    "# Ex 3.1: Load the dataset from the defined data_path and display the first 5 rows.\n",
    "\n",
    "data_path = \"../data/cities_temperatures.csv\"\n",
    "\n",
    "data_path = \"../data/cities_temperatures.csv\"\n",
    "temps_df = pd.read_csv(data_path)  # TODO\n",
    "\n",
    "temps_df.head(5)"
   ]
  },
  {
   "cell_type": "code",
   "execution_count": null,
   "metadata": {},
   "outputs": [],
   "source": [
    "# Converting the date column to datetime date format in order to be able to analyze better the time series and plot it\n",
    "temps_df[\"Date\"] = pd.to_datetime(temps_df[\"Date\"]).dt.date"
   ]
  },
  {
   "cell_type": "code",
   "execution_count": null,
   "metadata": {},
   "outputs": [],
   "source": [
    "# Ex 3.2: Create a new column called `AvgTemperatureCelsius` that contains the temperature in Celsius degrees.\n",
    "\n",
    "temps_df[\"AvgTemperatureCelsius\"] = (5/9) *(temps_df.AvgTemperatureFahrenheit -32 ) # TODO: uncomment this line to complete it\n",
    "temps_df.head(15)"
   ]
  },
  {
   "cell_type": "code",
   "execution_count": null,
   "metadata": {},
   "outputs": [],
   "source": [
    "# Ex 3.3: How many different cities are there? Provide a list of them.\n",
    "\n",
    "unique_countries_list = temps_df[\"City\"].unique()  # TODO: this should be a list of unique countries\n",
    "no_unique_countries = temps_df[\"City\"].nunique()\n",
    "unique_countries_list\n",
    "# TODO: print a message with the number of unique countries and the list of them\n",
    "print(f'The unique countries are {no_unique_countries} in number')"
   ]
  },
  {
   "cell_type": "code",
   "execution_count": null,
   "metadata": {},
   "outputs": [],
   "source": [
    "# Ex 3.4: What are the minimum and maximum dates?\n",
    "\n",
    "min_date = temps_df[\"Date\"].min()  # TODO\n",
    "max_date = temps_df[\"Date\"].max()  # TODO\n",
    "\n",
    "# TODO: print a message with the min and max dates\n",
    "print(f'The min date is {min_date} and the max date is {max_date}')"
   ]
  },
  {
   "cell_type": "code",
   "execution_count": null,
   "metadata": {},
   "outputs": [],
   "source": [
    "# Ex 3.5: What are the global minimum and maximum temperatures? Find the city and the date of each of them.\n",
    "\n",
    "min_temp =  temps_df['AvgTemperatureCelsius'].min() # TODO\n",
    "max_temp =  temps_df[\"AvgTemperatureCelsius\"].max()  # TODO\n",
    "\n",
    "min_temp_city =   temps_df.loc[temps_df.AvgTemperatureCelsius == min_temp, 'City'].astype(str).values[0]# TODO\n",
    "min_temp_date =  temps_df.loc[temps_df.AvgTemperatureCelsius == min_temp, 'Date'].astype(str).values[0] # TODO\n",
    "\n",
    "max_temp_city =   temps_df.loc[temps_df.AvgTemperatureCelsius == max_temp, 'City'].astype(str).values[0]# TODO\n",
    "max_temp_date =  temps_df.loc[temps_df.AvgTemperatureCelsius == max_temp, 'Date'].astype(str).values[0] # TODO\n",
    "\n",
    "\n",
    "# TODO: print a message with the min temperaure, its city and date, and then another message with the max temperature, its city and date\n",
    "print(f\"The minimum temperature in Celsius is {min_temp:.2f}°C, on {min_temp_date} in {min_temp_city}\")\n",
    "print(f\"The maximum temperature in Celsius is {max_temp:.2f}°C, on {max_temp_date} in {max_temp_city}\")"
   ]
  },
  {
   "cell_type": "code",
   "execution_count": null,
   "metadata": {},
   "outputs": [],
   "source": []
  },
  {
   "cell_type": "code",
   "execution_count": null,
   "metadata": {},
   "outputs": [],
   "source": [
    "# Ex 3.6: For a given city and a range of dates (start and end):\n",
    "#   - Make a line plot with the temperature reads of that city during the selected time period, the x axis has to be the timestamp column.\n",
    "#   - Make a histogram of the temperature reads of that city during the selected time period.\n",
    "#   - Make sure that all plots include a title, axis labels and a legend.\n",
    "\n",
    "city = \"Munich\"\n",
    "start_date = pd.to_datetime(\"2008-01-01\").date()\n",
    "end_date = pd.to_datetime(\"2010-12-31\").date()\n",
    "\n",
    "city_df = temps_df.loc[temps_df['City'] == city]          # TODO: get a dataframe with the rows of the selected city\n",
    "\n",
    "city_df_period = temps_df.loc[(temps_df['City'] == city) &(temps_df['Date'] >= start_date) & (temps_df['Date'] <= end_date)]\n",
    "plt.figure(figsize=(10, 5))\n",
    "\n",
    "# TODO: Uncomment and complete the following lines to plot the line plot using the city_df_period AvgTemperatureCelsius column as the y axis and the Date column as the x axis\n",
    "\n",
    "plt.plot(city_df_period['Date'], city_df_period['AvgTemperatureCelsius']) # TODO\n",
    "plt.xlabel('Date')   # TODO\n",
    "plt.ylabel('Avg Temperature in Celsius') # TODO\n",
    "plt.title(f'Average Temperature in {city} from {start_date} to {end_date}')\n",
    "plt.legend()\n",
    "\n",
    "plt.show()\n"
   ]
  },
  {
   "cell_type": "code",
   "execution_count": null,
   "metadata": {},
   "outputs": [],
   "source": [
    "# TODO: Build the histogram plot using the city_df_period AvgTemperatureCelsius column as the data to plot\n",
    "\n",
    "plt.figure(figsize=(10, 5))\n",
    "\n",
    "plt.hist(city_df_period['AvgTemperatureCelsius'], bins= 20,)    # TODO: use the city_df_period AvgTemperatureCelsius column as the data to plot, you can use the parameter bins=20\n",
    "plt.xlabel('Average Temperature in Celsius')# TODO\n",
    "plt.ylabel('Frequency')# TODO\n",
    "plt.title(f'Histogram of Average Temperature in {city} from {start_date} to {end_date}')# TODO\n",
    "\n",
    "plt.show()"
   ]
  },
  {
   "cell_type": "code",
   "execution_count": null,
   "metadata": {},
   "outputs": [],
   "source": []
  },
  {
   "cell_type": "code",
   "execution_count": null,
   "metadata": {},
   "outputs": [],
   "source": [
    "# Ex 3.7: Now repeat the previous question but for a list of cities:\n",
    "#   - Make a line plot with the temperature reads of the cities in the list, for the selected time period, every city has to be a different line with a different color, the x axis has to be the timestamp column.\n",
    "#   - Make a histogram of the temperature reads of a list of selected cities, for the selected time period, every city has to be its own distribution with a different color.\n",
    "#   - Make sure that all plots include a title, axis labels and a legend.\n",
    "\n",
    "selected_cities = [\"Munich\", \"Buenos Aires\", \"Tokyo\"]\n",
    "start_date = pd.to_datetime(\"2008-01-01\").date()\n",
    "end_date = pd.to_datetime(\"2010-12-31\").date()\n",
    "\n",
    "\n",
    "plt.figure(figsize=(15, 5))\n",
    "\n",
    "# TODO: Uncomment and complete the following lines to plot the line plot using the city_df_period AvgTemperatureCelsius column as the y axis and the Date column as the x axis\n",
    "\n",
    "for city in selected_cities:\n",
    "    city_df = temps_df.loc[temps_df.City == city]            # TODO: get a dataframe with the rows of the selected city\n",
    "    city_df_period = city_df.loc[(city_df['Date'] >= start_date) & (city_df['Date'] <= end_date)]     # TODO: get a dataframe with the rows of the selected city and the selected period of time using the Date column and any of the <, >, <=, >= operators to compare with start_date and end_date\n",
    "    plt.plot(city_df_period['Date'], city_df_period['AvgTemperatureCelsius'],label=city)               # TODO plot each city line and use the label parameter to set the legend name for each city\n",
    "\n",
    "plt.xlabel('Date')\n",
    "plt.ylabel('Avg Temperature in Celsius')\n",
    "plt.title(f'Average Temperature in {\", \".join(selected_cities)} from {start_date} to {end_date}')\n",
    "plt.legend()"
   ]
  },
  {
   "cell_type": "code",
   "execution_count": null,
   "metadata": {},
   "outputs": [],
   "source": []
  },
  {
   "cell_type": "code",
   "execution_count": null,
   "metadata": {},
   "outputs": [],
   "source": [
    "# TODO: Build the histogram plot for the selected cities using the city_df_period AvgTemperatureCelsius column as the data to plot for each one\n",
    "\n",
    "plt.figure(figsize=(15, 5))\n",
    "\n",
    "for city in selected_cities:\n",
    "    city_df = temps_df.loc[temps_df.City == city]            # TODO: get a dataframe with the rows of the selected city\n",
    "    city_df_period = city_df.loc[(city_df['Date'] >= start_date) & (city_df['Date'] <= end_date)]     # TODO: get a dataframe with the rows of the selected city and the selected period of time using the Date column and any of the <, >, <=, >= operators to compare with start_date and end_date\n",
    "    plt.hist(city_df_period['AvgTemperatureCelsius'], bins = 50, label=city)                    # TODO: plot each city histogram in the same plot and use the label parameter to set the legend name for each city \n",
    "\n",
    "plt.title(f'Histogram of Average Temperature in {city} from {start_date} to {end_date}') # TODO\n",
    "plt.xlabel('Date') #TODO\n",
    "plt.ylabel('Avg Temperature in Celsius') # TODO\n",
    "\n",
    "plt.legend(loc='upper left')\n",
    "\n",
    "plt.show()\n"
   ]
  },
  {
   "cell_type": "code",
   "execution_count": null,
   "metadata": {},
   "outputs": [],
   "source": []
  }
 ],
 "metadata": {
  "kernelspec": {
   "display_name": "Python 3",
   "language": "python",
   "name": "python3"
  },
  "language_info": {
   "codemirror_mode": {
    "name": "ipython",
    "version": 3
   },
   "file_extension": ".py",
   "mimetype": "text/x-python",
   "name": "python",
   "nbconvert_exporter": "python",
   "pygments_lexer": "ipython3",
   "version": "3.13.1"
  }
 },
 "nbformat": 4,
 "nbformat_minor": 2
}
